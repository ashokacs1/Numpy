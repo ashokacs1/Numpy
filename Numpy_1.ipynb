{
  "nbformat": 4,
  "nbformat_minor": 0,
  "metadata": {
    "colab": {
      "provenance": []
    },
    "kernelspec": {
      "name": "python3",
      "display_name": "Python 3"
    },
    "language_info": {
      "name": "python"
    }
  },
  "cells": [
    {
      "cell_type": "markdown",
      "source": [
        "Consider the below code to answer further questions:\n",
        "\n",
        "import numpy as np\n",
        "\n",
        "list_ = [ ‘1’ , ’2’ , ‘3’ , ‘4’ , ‘5’ ]\n",
        "\n",
        "array_list = np.array(object = list_)"
      ],
      "metadata": {
        "id": "eK1tPwbsU8wS"
      }
    },
    {
      "cell_type": "markdown",
      "source": [
        "Q1. Is there any difference in the data type of variables list_ and array_list? If there is then write a code\n",
        "to print the data types of both the variables."
      ],
      "metadata": {
        "id": "hkgm73npVNEu"
      }
    },
    {
      "cell_type": "markdown",
      "source": [
        "==>> Yes, there is a difference in the data types of list_ and array_list. The variable list_ is a Python list, while array_list is a NumPy array. You can check the data types using the type() function in Python."
      ],
      "metadata": {
        "id": "ckZ1AZj9V521"
      }
    },
    {
      "cell_type": "code",
      "source": [
        "import numpy as np\n",
        "\n",
        "list_ = ['1', '2', '3', '4', '5']\n",
        "array_list = np.array(object=list_)\n",
        "print(type(list_))\n",
        "print(type(array_list))"
      ],
      "metadata": {
        "colab": {
          "base_uri": "https://localhost:8080/"
        },
        "id": "F7UiBffDVH-b",
        "outputId": "8920fd4a-5aab-412f-bdad-35cc2726b3df"
      },
      "execution_count": 1,
      "outputs": [
        {
          "output_type": "stream",
          "name": "stdout",
          "text": [
            "<class 'list'>\n",
            "<class 'numpy.ndarray'>\n"
          ]
        }
      ]
    },
    {
      "cell_type": "markdown",
      "source": [
        "Q2. Write a code to print the data type of each and every element of both the variables list_ and\n",
        "arra_list."
      ],
      "metadata": {
        "id": "mPHWqD7AXL7E"
      }
    },
    {
      "cell_type": "markdown",
      "source": [
        "You can use a loop to print the data type of each element in both list_ and array_list. Here’s how you can do it:"
      ],
      "metadata": {
        "id": "I6lRG0knXRQ3"
      }
    },
    {
      "cell_type": "code",
      "source": [
        "list_ = ['1', '2', '3', '4', '5']\n",
        "array_list = np.array(object=list_)\n",
        "print(\"the type of the data in list\")\n",
        "for element in list_:\n",
        "  print(type(element))\n",
        "print(\"the type of the data in the array_list\")\n",
        "for element in array_list:\n",
        "  print(type(element))"
      ],
      "metadata": {
        "colab": {
          "base_uri": "https://localhost:8080/"
        },
        "id": "b5rPFbEXWqIX",
        "outputId": "5dfefb5d-ce7f-40af-f6f8-3e2eb45a1d82"
      },
      "execution_count": 3,
      "outputs": [
        {
          "output_type": "stream",
          "name": "stdout",
          "text": [
            "the type of the data in list\n",
            "<class 'str'>\n",
            "<class 'str'>\n",
            "<class 'str'>\n",
            "<class 'str'>\n",
            "<class 'str'>\n",
            "the type of the data in the array_list\n",
            "<class 'numpy.str_'>\n",
            "<class 'numpy.str_'>\n",
            "<class 'numpy.str_'>\n",
            "<class 'numpy.str_'>\n",
            "<class 'numpy.str_'>\n"
          ]
        }
      ]
    },
    {
      "cell_type": "markdown",
      "source": [
        "Q3. Considering the following changes in the variable, array_list:\n",
        "\n",
        "array_list = np.array(object = list_, dtype = int)\n",
        "\n",
        "Will there be any difference in the data type of the elements present in both the variables, list_ and\n",
        "arra_list? If so then print the data types of each and every element present in both the variables, list_\n",
        "and arra_list.*italicized text*"
      ],
      "metadata": {
        "id": "bSGutPhsYG3Q"
      }
    },
    {
      "cell_type": "markdown",
      "source": [
        "Yes, there will be a difference in the data type of the elements present in list_ and array_list after converting array_list to have elements of type int. The list_ elements will remain as strings, while the array_list elements will be converted to integers.\n",
        "\n",
        "Here’s how you can check and print the data types of each element in both list_ and array_list:"
      ],
      "metadata": {
        "id": "fE-jOQRAY5dc"
      }
    },
    {
      "cell_type": "code",
      "source": [
        "import numpy as np\n",
        "\n",
        "list_ = ['1', '2', '3', '4', '5']\n",
        "array_list = np.array(object=list_, dtype=int)\n",
        "\n",
        "# Printing data types of each element in list_\n",
        "print(\"Data types of elements in list_:\")\n",
        "for element in list_:\n",
        "    print(type(element))\n",
        "\n",
        "# Printing data types of each element in array_list\n",
        "print(\"\\nData types of elements in array_list:\")\n",
        "for element in array_list:\n",
        "    print(type(element))\n"
      ],
      "metadata": {
        "colab": {
          "base_uri": "https://localhost:8080/"
        },
        "id": "wtvwKsZ8XyOI",
        "outputId": "5df5ea42-8df4-4011-f503-52defb88cc01"
      },
      "execution_count": 4,
      "outputs": [
        {
          "output_type": "stream",
          "name": "stdout",
          "text": [
            "Data types of elements in list_:\n",
            "<class 'str'>\n",
            "<class 'str'>\n",
            "<class 'str'>\n",
            "<class 'str'>\n",
            "<class 'str'>\n",
            "\n",
            "Data types of elements in array_list:\n",
            "<class 'numpy.int64'>\n",
            "<class 'numpy.int64'>\n",
            "<class 'numpy.int64'>\n",
            "<class 'numpy.int64'>\n",
            "<class 'numpy.int64'>\n"
          ]
        }
      ]
    },
    {
      "cell_type": "markdown",
      "source": [
        "Consider the below code to answer further questions:\n",
        "\n",
        "import numpy as np\n",
        "\n",
        "num_list = [ [ 1 , 2 , 3 ] , [ 4 , 5 , 6 ] ]\n",
        "\n",
        "num_array = np.array(object = num_list)\n",
        "\n",
        "Q4. Write a code to find the following characteristics of variable, num_array:\n",
        "\n",
        "(i) shape\n",
        "(ii) size"
      ],
      "metadata": {
        "id": "VD1cPHPrZ_I8"
      }
    },
    {
      "cell_type": "code",
      "source": [
        "import numpy as np\n",
        "num_list = [ [ 1 , 2 , 3 ] , [ 4 , 5 , 6 ] ]\n",
        "num_array = np.array(object = num_list)\n",
        "# finding the shape of ndarray\n",
        "num_array.shape\n"
      ],
      "metadata": {
        "colab": {
          "base_uri": "https://localhost:8080/"
        },
        "id": "Fd6-UulnZjqJ",
        "outputId": "28c1b43d-bdbb-423c-c4c6-e8f57e018ac5"
      },
      "execution_count": 9,
      "outputs": [
        {
          "output_type": "execute_result",
          "data": {
            "text/plain": [
              "(2, 3)"
            ]
          },
          "metadata": {},
          "execution_count": 9
        }
      ]
    },
    {
      "cell_type": "code",
      "source": [
        "# finging the size of the array\n",
        "num_array.size"
      ],
      "metadata": {
        "colab": {
          "base_uri": "https://localhost:8080/"
        },
        "id": "2gPYOAyRaZvc",
        "outputId": "50b352d0-dee0-470c-941c-2914358d8cd0"
      },
      "execution_count": 10,
      "outputs": [
        {
          "output_type": "execute_result",
          "data": {
            "text/plain": [
              "6"
            ]
          },
          "metadata": {},
          "execution_count": 10
        }
      ]
    },
    {
      "cell_type": "markdown",
      "source": [
        "Q5. Write a code to create numpy array of 3*3 matrix containing zeros only, using a numpy array\n",
        "creation function.\n",
        "\n",
        "[Hint: The size of the array will be 9 and the shape will be (3,3).]"
      ],
      "metadata": {
        "id": "L4YCp3b1bs5P"
      }
    },
    {
      "cell_type": "code",
      "source": [
        "import numpy as np\n",
        "np.zeros((3,3))"
      ],
      "metadata": {
        "colab": {
          "base_uri": "https://localhost:8080/"
        },
        "id": "uvT6kxeGbRpQ",
        "outputId": "d47e223e-e300-4c65-bd11-3ab14ae2f53c"
      },
      "execution_count": 11,
      "outputs": [
        {
          "output_type": "execute_result",
          "data": {
            "text/plain": [
              "array([[0., 0., 0.],\n",
              "       [0., 0., 0.],\n",
              "       [0., 0., 0.]])"
            ]
          },
          "metadata": {},
          "execution_count": 11
        }
      ]
    },
    {
      "cell_type": "markdown",
      "source": [
        "Q6. Create an identity matrix of shape (5,5) using numpy functions?\n",
        "\n",
        "[Hint: An identity matrix is a matrix containing 1 diagonally and other elements will be 0.]"
      ],
      "metadata": {
        "id": "e-z6etIDcJHG"
      }
    },
    {
      "cell_type": "code",
      "source": [
        "np.eye(5)"
      ],
      "metadata": {
        "colab": {
          "base_uri": "https://localhost:8080/"
        },
        "id": "QmUxl8s1b7RC",
        "outputId": "3c78a214-cfee-4d53-d765-a20cd5d8c1b5"
      },
      "execution_count": 12,
      "outputs": [
        {
          "output_type": "execute_result",
          "data": {
            "text/plain": [
              "array([[1., 0., 0., 0., 0.],\n",
              "       [0., 1., 0., 0., 0.],\n",
              "       [0., 0., 1., 0., 0.],\n",
              "       [0., 0., 0., 1., 0.],\n",
              "       [0., 0., 0., 0., 1.]])"
            ]
          },
          "metadata": {},
          "execution_count": 12
        }
      ]
    }
  ]
}